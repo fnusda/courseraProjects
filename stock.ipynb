{
  "nbformat": 4,
  "nbformat_minor": 0,
  "metadata": {
    "colab": {
      "provenance": [],
      "authorship_tag": "ABX9TyMqMD1/Zt/TExdTET3WkzQW",
      "include_colab_link": true
    },
    "kernelspec": {
      "name": "python3",
      "display_name": "Python 3"
    },
    "language_info": {
      "name": "python"
    }
  },
  "cells": [
    {
      "cell_type": "markdown",
      "metadata": {
        "id": "view-in-github",
        "colab_type": "text"
      },
      "source": [
        "<a href=\"https://colab.research.google.com/github/fnusda/courseraProjects/blob/main/stock.ipynb\" target=\"_parent\"><img src=\"https://colab.research.google.com/assets/colab-badge.svg\" alt=\"Open In Colab\"/></a>"
      ]
    },
    {
      "cell_type": "code",
      "execution_count": null,
      "metadata": {
        "colab": {
          "base_uri": "https://localhost:8080/"
        },
        "id": "tk2XByRbYXPU",
        "outputId": "d7cbf073-9818-4378-e78b-437890160679"
      },
      "outputs": [
        {
          "output_type": "stream",
          "name": "stdout",
          "text": [
            "Dados para Tesla:\n",
            "                                 Open        High         Low       Close  \\\n",
            "Date                                                                        \n",
            "2023-01-03 00:00:00-05:00  118.470001  118.800003  104.639999  108.099998   \n",
            "2023-01-04 00:00:00-05:00  109.110001  114.589996  107.519997  113.639999   \n",
            "2023-01-05 00:00:00-05:00  110.510002  111.750000  107.160004  110.339996   \n",
            "2023-01-06 00:00:00-05:00  103.000000  114.389999  101.809998  113.059998   \n",
            "2023-01-09 00:00:00-05:00  118.959999  123.519997  117.110001  119.769997   \n",
            "\n",
            "                              Volume  Dividends  Stock Splits  \n",
            "Date                                                           \n",
            "2023-01-03 00:00:00-05:00  231402800        0.0           0.0  \n",
            "2023-01-04 00:00:00-05:00  180389000        0.0           0.0  \n",
            "2023-01-05 00:00:00-05:00  157986300        0.0           0.0  \n",
            "2023-01-06 00:00:00-05:00  220911100        0.0           0.0  \n",
            "2023-01-09 00:00:00-05:00  190284000        0.0           0.0  \n",
            "\n",
            "Dados para GameStop:\n",
            "                                Open       High        Low      Close  \\\n",
            "Date                                                                    \n",
            "2023-01-03 00:00:00-05:00  18.639999  19.260000  17.090000  17.200001   \n",
            "2023-01-04 00:00:00-05:00  17.250000  17.930000  16.900000  17.320000   \n",
            "2023-01-05 00:00:00-05:00  17.059999  17.260000  15.890000  16.219999   \n",
            "2023-01-06 00:00:00-05:00  16.000000  16.570000  15.410000  16.459999   \n",
            "2023-01-09 00:00:00-05:00  16.650000  17.129999  16.360001  16.379999   \n",
            "\n",
            "                            Volume  Dividends  Stock Splits  \n",
            "Date                                                         \n",
            "2023-01-03 00:00:00-05:00  5135200        0.0           0.0  \n",
            "2023-01-04 00:00:00-05:00  3939300        0.0           0.0  \n",
            "2023-01-05 00:00:00-05:00  6066200        0.0           0.0  \n",
            "2023-01-06 00:00:00-05:00  4823400        0.0           0.0  \n",
            "2023-01-09 00:00:00-05:00  3522600        0.0           0.0  \n",
            "\n"
          ]
        }
      ],
      "source": [
        "import yfinance as yf\n",
        "\n",
        "def extrair_dados_acao(symbol, start_date, end_date):\n",
        "    try:\n",
        "        # Criar um objeto ticker para o símbolo especificado\n",
        "        ticker = yf.Ticker(symbol)\n",
        "\n",
        "        # Extrair os dados históricos das ações no intervalo de datas especificado\n",
        "        data = ticker.history(period='1d', start=start_date, end=end_date)\n",
        "\n",
        "        return data\n",
        "    except Exception as e:\n",
        "        print(f\"Erro ao extrair dados para {symbol}: {str(e)}\")\n",
        "        return None\n",
        "\n",
        "# Defina as datas de início e fim desejadas\n",
        "start_date = '2023-01-01'\n",
        "end_date = '2023-08-31'\n",
        "\n",
        "# Símbolos das ações\n",
        "tesla_symbol = 'TSLA'\n",
        "gamestop_symbol = 'GME'\n",
        "\n",
        "# Extrair dados para Tesla\n",
        "tesla_data = extrair_dados_acao(tesla_symbol, start_date, end_date)\n",
        "\n",
        "if tesla_data is not None:\n",
        "    print(f\"Dados para Tesla:\\n{tesla_data.head()}\\n\")\n",
        "\n",
        "# Extrair dados para GameStop\n",
        "gamestop_data = extrair_dados_acao(gamestop_symbol, start_date, end_date)\n",
        "\n",
        "if gamestop_data is not None:\n",
        "    print(f\"Dados para GameStop:\\n{gamestop_data.head()}\\n\")\n"
      ]
    },
    {
      "cell_type": "code",
      "source": [
        "import requests\n",
        "from bs4 import BeautifulSoup\n",
        "\n",
        "def extrair_receita_yahoo_finance(symbol):\n",
        "    try:\n",
        "        # Construir a URL da página de informações financeiras do Yahoo Finance para o símbolo especificado\n",
        "        url = f\"https://finance.yahoo.com/quote/{symbol}?p={symbol}\"\n",
        "\n",
        "        # Enviar uma solicitação HTTP para obter o conteúdo da página\n",
        "        response = requests.get(url)\n",
        "\n",
        "        # Verificar se a solicitação foi bem-sucedida\n",
        "        if response.status_code == 200:\n",
        "            soup = BeautifulSoup(response.text, 'html.parser')\n",
        "\n",
        "            # Encontrar o elemento que contém a receita\n",
        "            revenue_element = soup.find('td', {'data-test': 'OPEN-value'})\n",
        "\n",
        "            if revenue_element:\n",
        "                revenue = revenue_element.get_text()\n",
        "                return revenue\n",
        "            else:\n",
        "                return \"Dados de receita não encontrados.\"\n",
        "        else:\n",
        "            return f\"Erro ao acessar a página: Código de status {response.status_code}\"\n",
        "    except Exception as e:\n",
        "        return f\"Erro ao extrair dados de receita para {symbol}: {str(e)}\"\n",
        "\n",
        "# Símbolos das empresas\n",
        "tesla_symbol = 'TSLA'\n",
        "gamestop_symbol = 'GME'\n",
        "\n",
        "# Extrair dados de receita para Tesla\n",
        "tesla_revenue = extrair_receita_yahoo_finance(tesla_symbol)\n",
        "print(f\"Receita da Tesla: {tesla_revenue}\\n\")\n",
        "\n",
        "# Extrair dados de receita para GameStop\n",
        "gamestop_revenue = extrair_receita_yahoo_finance(gamestop_symbol)\n",
        "print(f\"Receita da GameStop: {gamestop_revenue}\\n\")\n",
        "\n"
      ],
      "metadata": {
        "colab": {
          "base_uri": "https://localhost:8080/"
        },
        "id": "8YnY5OGTYYXE",
        "outputId": "9fdc8246-c75e-4e6f-83f0-2539922e958b"
      },
      "execution_count": null,
      "outputs": [
        {
          "output_type": "stream",
          "name": "stdout",
          "text": [
            "Receita da Tesla: Erro ao acessar a página: Código de status 404\n",
            "\n",
            "Receita da GameStop: Erro ao acessar a página: Código de status 404\n",
            "\n"
          ]
        }
      ]
    },
    {
      "cell_type": "code",
      "source": [
        "import requests\n",
        "from bs4 import BeautifulSoup\n",
        "\n",
        "def extrair_receita_cnbc(symbol):\n",
        "    try:\n",
        "        # Construir a URL da página de informações financeiras da CNBC para o símbolo especificado\n",
        "        url = f\"https://www.cnbc.com/quotes/{symbol}/financials/\"\n",
        "\n",
        "        # Enviar uma solicitação HTTP para obter o conteúdo da página\n",
        "        response = requests.get(url)\n",
        "\n",
        "        # Verificar se a solicitação foi bem-sucedida\n",
        "        if response.status_code == 200:\n",
        "            soup = BeautifulSoup(response.text, 'html.parser')\n",
        "\n",
        "            # Encontrar o elemento que contém a receita\n",
        "            revenue_element = soup.find('td', {'data-module': 'TTM_REVENUE'})\n",
        "\n",
        "            if revenue_element:\n",
        "                revenue = revenue_element.get_text()\n",
        "                return revenue.strip()\n",
        "            else:\n",
        "                return \"Dados de receita não encontrados.\"\n",
        "        else:\n",
        "            return f\"Erro ao acessar a página: Código de status {response.status_code}\"\n",
        "    except Exception as e:\n",
        "        return f\"Erro ao extrair dados de receita para {symbol}: {str(e)}\"\n",
        "\n",
        "# Símbolos das empresas\n",
        "tesla_symbol = 'TSLA'\n",
        "gamestop_symbol = 'GME'\n",
        "\n",
        "# Extrair dados de receita para Tesla\n",
        "tesla_revenue = extrair_receita_cnbc(tesla_symbol)\n",
        "print(f\"Receita da Tesla: {tesla_revenue}\\n\")\n",
        "\n",
        "# Extrair dados de receita para GameStop\n",
        "gamestop_revenue = extrair_receita_cnbc(gamestop_symbol)\n",
        "print(f\"Receita da GameStop: {gamestop_revenue}\\n\")\n"
      ],
      "metadata": {
        "colab": {
          "base_uri": "https://localhost:8080/"
        },
        "id": "SF9csyejZLQJ",
        "outputId": "7e8ba098-adb6-4339-8a6d-02c9b570aa3e"
      },
      "execution_count": null,
      "outputs": [
        {
          "output_type": "stream",
          "name": "stdout",
          "text": [
            "Receita da Tesla: Erro ao acessar a página: Código de status 404\n",
            "\n",
            "Receita da GameStop: Erro ao acessar a página: Código de status 404\n",
            "\n"
          ]
        }
      ]
    },
    {
      "cell_type": "code",
      "source": [
        "import requests\n",
        "\n",
        "# Insira sua chave de API do Alpha Vantage aqui\n",
        "api_key = '******'\n",
        "\n",
        "def extrair_receita_alpha_vantage(symbol):\n",
        "    try:\n",
        "        # Construir a URL da API do Alpha Vantage para obter os dados de receita\n",
        "        url = f\"https://www.alphavantage.co/query?function=INCOME_STATEMENT&symbol={symbol}&apikey={api_key}\"\n",
        "\n",
        "        # Enviar uma solicitação HTTP para obter os dados\n",
        "        response = requests.get(url)\n",
        "\n",
        "        # Verificar se a solicitação foi bem-sucedida\n",
        "        if response.status_code == 200:\n",
        "            data = response.json()\n",
        "            if 'annualReports' in data and len(data['annualReports']) > 0:\n",
        "                # Extrair a receita do último relatório anual\n",
        "                revenue = data['annualReports'][0].get('totalRevenue')\n",
        "                return revenue\n",
        "            else:\n",
        "                return \"Dados de receita não encontrados.\"\n",
        "        else:\n",
        "            return f\"Erro ao acessar a API: Código de status {response.status_code}\"\n",
        "    except Exception as e:\n",
        "        return f\"Erro ao extrair dados de receita para {symbol}: {str(e)}\"\n",
        "\n",
        "# Símbolos das empresas\n",
        "tesla_symbol = 'TSLA'\n",
        "gamestop_symbol = 'GME'\n",
        "\n",
        "# Extrair dados de receita para Tesla\n",
        "tesla_revenue = extrair_receita_alpha_vantage(tesla_symbol)\n",
        "print(f\"Receita da Tesla: {tesla_revenue}\\n\")\n",
        "\n",
        "# Extrair dados de receita para GameStop\n",
        "gamestop_revenue = extrair_receita_alpha_vantage(gamestop_symbol)\n",
        "print(f\"Receita da GameStop: {gamestop_revenue}\\n\")\n"
      ],
      "metadata": {
        "colab": {
          "base_uri": "https://localhost:8080/"
        },
        "id": "EQHlVQ25ZaxT",
        "outputId": "1a0cad2d-c737-4fbb-c4f8-559823d9c86e"
      },
      "execution_count": null,
      "outputs": [
        {
          "output_type": "stream",
          "name": "stdout",
          "text": [
            "Receita da Tesla: 81462000000\n",
            "\n",
            "Receita da GameStop: 5927200000\n",
            "\n"
          ]
        }
      ]
    },
    {
      "cell_type": "code",
      "source": [
        "!pip install dash"
      ],
      "metadata": {
        "colab": {
          "base_uri": "https://localhost:8080/"
        },
        "id": "R5eMY6xwZ-Eu",
        "outputId": "304ddb07-8645-4bf8-9429-6d4f12e65caa"
      },
      "execution_count": null,
      "outputs": [
        {
          "output_type": "stream",
          "name": "stdout",
          "text": [
            "Collecting dash\n",
            "  Downloading dash-2.13.0-py3-none-any.whl (10.4 MB)\n",
            "\u001b[2K     \u001b[90m━━━━━━━━━━━━━━━━━━━━━━━━━━━━━━━━━━━━━━━━\u001b[0m \u001b[32m10.4/10.4 MB\u001b[0m \u001b[31m23.6 MB/s\u001b[0m eta \u001b[36m0:00:00\u001b[0m\n",
            "\u001b[?25hRequirement already satisfied: Flask<2.3.0,>=1.0.4 in /usr/local/lib/python3.10/dist-packages (from dash) (2.2.5)\n",
            "Collecting Werkzeug<2.3.0 (from dash)\n",
            "  Downloading Werkzeug-2.2.3-py3-none-any.whl (233 kB)\n",
            "\u001b[2K     \u001b[90m━━━━━━━━━━━━━━━━━━━━━━━━━━━━━━━━━━━━━━\u001b[0m \u001b[32m233.6/233.6 kB\u001b[0m \u001b[31m26.2 MB/s\u001b[0m eta \u001b[36m0:00:00\u001b[0m\n",
            "\u001b[?25hRequirement already satisfied: plotly>=5.0.0 in /usr/local/lib/python3.10/dist-packages (from dash) (5.15.0)\n",
            "Collecting dash-html-components==2.0.0 (from dash)\n",
            "  Downloading dash_html_components-2.0.0-py3-none-any.whl (4.1 kB)\n",
            "Collecting dash-core-components==2.0.0 (from dash)\n",
            "  Downloading dash_core_components-2.0.0-py3-none-any.whl (3.8 kB)\n",
            "Collecting dash-table==5.0.0 (from dash)\n",
            "  Downloading dash_table-5.0.0-py3-none-any.whl (3.9 kB)\n",
            "Requirement already satisfied: typing-extensions>=4.1.1 in /usr/local/lib/python3.10/dist-packages (from dash) (4.7.1)\n",
            "Requirement already satisfied: requests in /usr/local/lib/python3.10/dist-packages (from dash) (2.31.0)\n",
            "Collecting retrying (from dash)\n",
            "  Downloading retrying-1.3.4-py3-none-any.whl (11 kB)\n",
            "Collecting ansi2html (from dash)\n",
            "  Downloading ansi2html-1.8.0-py3-none-any.whl (16 kB)\n",
            "Requirement already satisfied: nest-asyncio in /usr/local/lib/python3.10/dist-packages (from dash) (1.5.7)\n",
            "Requirement already satisfied: setuptools in /usr/local/lib/python3.10/dist-packages (from dash) (67.7.2)\n",
            "Requirement already satisfied: Jinja2>=3.0 in /usr/local/lib/python3.10/dist-packages (from Flask<2.3.0,>=1.0.4->dash) (3.1.2)\n",
            "Requirement already satisfied: itsdangerous>=2.0 in /usr/local/lib/python3.10/dist-packages (from Flask<2.3.0,>=1.0.4->dash) (2.1.2)\n",
            "Requirement already satisfied: click>=8.0 in /usr/local/lib/python3.10/dist-packages (from Flask<2.3.0,>=1.0.4->dash) (8.1.7)\n",
            "Requirement already satisfied: tenacity>=6.2.0 in /usr/local/lib/python3.10/dist-packages (from plotly>=5.0.0->dash) (8.2.3)\n",
            "Requirement already satisfied: packaging in /usr/local/lib/python3.10/dist-packages (from plotly>=5.0.0->dash) (23.1)\n",
            "Requirement already satisfied: MarkupSafe>=2.1.1 in /usr/local/lib/python3.10/dist-packages (from Werkzeug<2.3.0->dash) (2.1.3)\n",
            "Requirement already satisfied: charset-normalizer<4,>=2 in /usr/local/lib/python3.10/dist-packages (from requests->dash) (3.2.0)\n",
            "Requirement already satisfied: idna<4,>=2.5 in /usr/local/lib/python3.10/dist-packages (from requests->dash) (3.4)\n",
            "Requirement already satisfied: urllib3<3,>=1.21.1 in /usr/local/lib/python3.10/dist-packages (from requests->dash) (2.0.4)\n",
            "Requirement already satisfied: certifi>=2017.4.17 in /usr/local/lib/python3.10/dist-packages (from requests->dash) (2023.7.22)\n",
            "Requirement already satisfied: six>=1.7.0 in /usr/local/lib/python3.10/dist-packages (from retrying->dash) (1.16.0)\n",
            "Installing collected packages: dash-table, dash-html-components, dash-core-components, Werkzeug, retrying, ansi2html, dash\n",
            "  Attempting uninstall: Werkzeug\n",
            "    Found existing installation: Werkzeug 2.3.7\n",
            "    Uninstalling Werkzeug-2.3.7:\n",
            "      Successfully uninstalled Werkzeug-2.3.7\n",
            "Successfully installed Werkzeug-2.2.3 ansi2html-1.8.0 dash-2.13.0 dash-core-components-2.0.0 dash-html-components-2.0.0 dash-table-5.0.0 retrying-1.3.4\n"
          ]
        }
      ]
    },
    {
      "cell_type": "code",
      "source": [
        "import plotly.express as px\n",
        "import dash\n",
        "import dash_core_components as dcc\n",
        "import dash_html_components as html\n",
        "from dash.dependencies import Input, Output\n",
        "import yfinance as yf\n",
        "\n",
        "# Símbolo da Tesla\n",
        "tesla_symbol = 'TSLA'\n",
        "\n",
        "# Função para carregar os dados da Tesla\n",
        "def carregar_dados_tesla():\n",
        "    tesla_data = yf.download(tesla_symbol, period=\"1y\")\n",
        "    return tesla_data\n",
        "\n",
        "# Criar um aplicativo Dash\n",
        "app = dash.Dash(__name__)\n",
        "\n",
        "# Layout do aplicativo\n",
        "app.layout = html.Div([\n",
        "    html.H1(\"Dashboard da Tesla\"),\n",
        "    dcc.Graph(id='tesla-graph'),\n",
        "    dcc.Interval(id='interval-component', interval=60*1000, n_intervals=0)  # Atualização automática a cada 60 segundos\n",
        "])\n",
        "\n",
        "# Callback para atualizar o gráfico da Tesla\n",
        "@app.callback(\n",
        "    Output('tesla-graph', 'figure'),\n",
        "    Input('interval-component', 'n_intervals')\n",
        ")\n",
        "def update_tesla_graph(n_intervals):\n",
        "    tesla_data = carregar_dados_tesla()\n",
        "    fig = px.line(tesla_data, x=tesla_data.index, y='Close', title=\"Preço de Fechamento da Tesla\")\n",
        "    return fig\n",
        "\n",
        "if __name__ == '__main__':\n",
        "    app.run_server(debug=True)\n",
        "\n"
      ],
      "metadata": {
        "colab": {
          "base_uri": "https://localhost:8080/",
          "height": 671
        },
        "id": "u1sX1EifbBd6",
        "outputId": "14d93993-7686-428c-f670-af4decb384d9"
      },
      "execution_count": null,
      "outputs": [
        {
          "output_type": "display_data",
          "data": {
            "text/plain": [
              "<IPython.core.display.Javascript object>"
            ],
            "application/javascript": [
              "(async (port, path, width, height, cache, element) => {\n",
              "    if (!google.colab.kernel.accessAllowed && !cache) {\n",
              "      return;\n",
              "    }\n",
              "    element.appendChild(document.createTextNode(''));\n",
              "    const url = await google.colab.kernel.proxyPort(port, {cache});\n",
              "    const iframe = document.createElement('iframe');\n",
              "    iframe.src = new URL(path, url).toString();\n",
              "    iframe.height = height;\n",
              "    iframe.width = width;\n",
              "    iframe.style.border = 0;\n",
              "    iframe.allow = [\n",
              "        'accelerometer',\n",
              "        'autoplay',\n",
              "        'camera',\n",
              "        'clipboard-read',\n",
              "        'clipboard-write',\n",
              "        'gyroscope',\n",
              "        'magnetometer',\n",
              "        'microphone',\n",
              "        'serial',\n",
              "        'usb',\n",
              "        'xr-spatial-tracking',\n",
              "    ].join('; ');\n",
              "    element.appendChild(iframe);\n",
              "  })(8050, \"/\", \"100%\", 650, false, window.element)"
            ]
          },
          "metadata": {}
        }
      ]
    }
  ]
}